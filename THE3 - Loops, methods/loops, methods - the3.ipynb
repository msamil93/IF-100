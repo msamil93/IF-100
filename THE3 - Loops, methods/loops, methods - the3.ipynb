{
  "nbformat": 4,
  "nbformat_minor": 0,
  "metadata": {
    "colab": {
      "provenance": []
    },
    "kernelspec": {
      "name": "python3",
      "display_name": "Python 3"
    },
    "language_info": {
      "name": "python"
    }
  },
  "cells": [
    {
      "cell_type": "code",
      "execution_count": 24,
      "metadata": {
        "colab": {
          "base_uri": "https://localhost:8080/"
        },
        "id": "XJEs418K9Ven",
        "outputId": "4a6a8f62-5b80-44c6-ebb1-48dc6917f2e3"
      },
      "outputs": [
        {
          "output_type": "stream",
          "name": "stdout",
          "text": [
            "Please enter the dataset you have: Jam:Fats & Sugars:38cals,Bagel:BREADS & CEREALS:140cals,Beef (roast):Meats & Fish:300cals,Liver pate:Meats & Fish:150cals,Corn snack:Fats & Sugars:125cals,Jaffa cake:BREADS & CEREALS:48cals,Syrup:Fats & Sugars:15cals,Cockles:Meats & Fish:50cals,Mars bar:Fats & Sugars:240cals,Chapatis:BREADS & CEREALS:250cals,Ham:Meats & Fish:6cals,Crackerbread:BREADS & CEREALS:17cals,Rice (egg-fried):BREADS & CEREALS:500cals,Fish cake:Meats & Fish:90cals,Salmon fresh:Meats & Fish:220cals,Toffee:Fats & Sugars:100cals,Steak & kidney pie:Meats & Fish:400cals\n",
            "PLease enter the food(s) you ate during the day: Jam,Liver,Corn snack\n",
            "Please enter the amount of calories you can take in a day: 1200\n",
            "Please enter the food you want to eat: Rice (egg-fried\n",
            "Liver is not in the dataset.\n"
          ]
        }
      ],
      "source": [
        "dataset = input(\"Please enter the dataset you have: \")\n",
        "food_eaten= input(\"PLease enter the food(s) you ate during the day: \")\n",
        "max_calories= int(input(\"Please enter the amount of calories you can take in a day: \"))\n",
        "wish_food= input(\"Please enter the food you want to eat: \") \n",
        "\n",
        "calories_taken=0\n",
        "data_list= dataset.split(\",\")\n",
        "food_eaten_list=[]\n",
        "\n",
        "food_list=[]\n",
        "categories=[]\n",
        "food_calories=[]\n",
        "\n",
        "\n",
        "if (food_eaten.find(\",\") != -1):\n",
        "  food_eaten_list=food_eaten.split(\",\")\n",
        "else:\n",
        "  food_eaten_list=[food_eaten]\n",
        "\n",
        "for i in range(len(data_list)):\n",
        "  seperated=data_list[i].split(\":\")\n",
        "  food_list.append(seperated[0])\n",
        "  categories.append(seperated[1])\n",
        "  food_calories.append(int(seperated[2][:-4]))\n",
        "\n",
        "\n",
        "only_relevant_food=True\n",
        "for food in food_eaten_list:  \n",
        "  if(food not in food_list):\n",
        "    print(food,\"is not in the dataset.\")\n",
        "    only_relevant_food=False\n",
        "\n",
        "\n",
        "if(only_relevant_food):\n",
        "  for food in food_eaten_list:\n",
        "    idx= food_list.index(food)\n",
        "    calories_taken += food_calories[idx]\n",
        "  \n",
        "  if (wish_food not in food_list):\n",
        "    print(wish_food, \"does not exist in the dataset.\")\n",
        "\n",
        "  else:\n",
        "    new_idx= food_list.index(wish_food)\n",
        "    wish_calorie= food_calories[new_idx]\n",
        "    \n",
        "    if (wish_calorie <= (max_calories-calories_taken)):\n",
        "      calories_taken += wish_calorie\n",
        "      print(\"You can eat\", wish_food, \"that you will get\", calories_taken, \"calories.\")\n",
        "    \n",
        "    else:\n",
        "      alternate_list=[]\n",
        "      alternate=False\n",
        "      wish_food_categorie= categories[new_idx]\n",
        "      \n",
        "      for i in range(len(categories)):\n",
        "        if (categories[i] == wish_food_categorie):\n",
        "          if(food_calories[i] <= (max_calories-calories_taken)):\n",
        "            alternate_list.append(food_list[i])\n",
        "      \n",
        "      if (len(alternate_list)>0):\n",
        "        alternate=True\n",
        "\n",
        "      if (alternate):\n",
        "        print(\"You cannot eat \",  wish_food, \". However, we are suggesting you to eat\", sep=\"\", end=\" \")\n",
        "        for i in range(len(alternate_list)):\n",
        "          if (i != len(alternate_list)-1):\n",
        "            print(alternate_list[i], \"or\", end=\" \")\n",
        "          else:\n",
        "            print(alternate_list[i], \".\", sep=\"\")\n",
        "\n",
        "      else:\n",
        "        print(\"There is no food you can eat from\", wish_food_categorie, \"group.\")\n",
        "        \n",
        "      \n",
        "\n",
        "\n",
        "\n",
        "\n",
        "\n",
        "\n",
        "\n",
        "\n",
        "\n",
        "\n",
        "\n",
        "\n"
      ]
    }
  ]
}