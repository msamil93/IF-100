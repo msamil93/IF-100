{
  "nbformat": 4,
  "nbformat_minor": 0,
  "metadata": {
    "colab": {
      "provenance": []
    },
    "kernelspec": {
      "name": "python3",
      "display_name": "Python 3"
    },
    "language_info": {
      "name": "python"
    }
  },
  "cells": [
    {
      "cell_type": "code",
      "execution_count": 43,
      "metadata": {
        "colab": {
          "base_uri": "https://localhost:8080/"
        },
        "id": "5cfPA0uhpHaz",
        "outputId": "f14c7381-00d5-4073-c658-11a3eef3d2f4"
      },
      "outputs": [
        {
          "output_type": "stream",
          "name": "stdout",
          "text": [
            "Please enter the genre that you want to listen: hip hop\n",
            "You can listen Me, Myself & I that has 78 popularity and 112 beats per minute.\n",
            "Please enter the genre that you want to listen: quit\n",
            "The program is closed.\n"
          ]
        }
      ],
      "source": [
        "from logging import info\n",
        "chosen_genre = input(\"Please enter the genre that you want to listen: \")\n",
        "myFile = open(\"songs.txt\", \"r\")\n",
        "general_dic={}\n",
        "pop_beats_dic={0:0}\n",
        "genrelist=[]\n",
        "\n",
        "def dict_add(dict, key, value):\n",
        "  dict[key]=value\n",
        "\n",
        "for line in myFile:\n",
        "  infos = line.split(\"|\")\n",
        "\n",
        "  song_name = infos[0].strip(\"* \")\n",
        "  genre = infos[1].strip()\n",
        "  genrelist.append(genre)\n",
        "  popularity_score = infos[2].strip()\n",
        "  beats_per_minute_score = infos[3].strip()\n",
        "\n",
        "  general_dic[song_name, genre] = int(popularity_score), int(beats_per_minute_score)\n",
        "\n",
        "while chosen_genre != \"quit\":\n",
        "  if chosen_genre not in genrelist:\n",
        "    print(\"There is no such genre \", chosen_genre, \".\", sep=\"\")\n",
        "    chosen_genre = input(\"Please enter the genre that you want to listen: \")\n",
        "    \n",
        "  else:\n",
        "    for key, value in general_dic.items():\n",
        "    \n",
        "      if chosen_genre == key[1]:\n",
        "        for k, v in pop_beats_dic.items():\n",
        "          if value[0] > max(pop_beats_dic.keys()):\n",
        "            pop_beats_dic={0:0}\n",
        "            pop_beats_dic[value[0]]=value[1]\n",
        "            maximum_key= max(pop_beats_dic.keys())\n",
        "            maximum_value= max(pop_beats_dic.values())\n",
        "            song=key[0]\n",
        "\n",
        "          elif value[0] == max(pop_beats_dic.keys()):\n",
        "            if value[1] > max(pop_beats_dic.values()):\n",
        "              pop_beats_dic={0:0}\n",
        "              pop_beats_dic[value[0]]=value[1]\n",
        "              maximum_key= max(pop_beats_dic.keys())\n",
        "              maximum_value= max(pop_beats_dic.values())\n",
        "              song=key[0]\n",
        "      \n",
        "    print(\"You can listen\", song , \"that has\", maximum_key, \"popularity and\", maximum_value, \"beats per minute.\")\n",
        "    pop_beats_dic={0:0}\n",
        "    chosen_genre = input(\"Please enter the genre that you want to listen: \")\n",
        "    \n",
        "      \n",
        "\n",
        "print(\"The program is closed.\")"
      ]
    }
  ]
}