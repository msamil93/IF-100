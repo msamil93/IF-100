{
  "nbformat": 4,
  "nbformat_minor": 0,
  "metadata": {
    "colab": {
      "provenance": []
    },
    "kernelspec": {
      "name": "python3",
      "display_name": "Python 3"
    },
    "language_info": {
      "name": "python"
    }
  },
  "cells": [
    {
      "cell_type": "code",
      "execution_count": 26,
      "metadata": {
        "colab": {
          "base_uri": "https://localhost:8080/"
        },
        "id": "avS69lUx6k5w",
        "outputId": "c2174553-809c-4e25-852a-f88591c1795e"
      },
      "outputs": [
        {
          "output_type": "stream",
          "name": "stdout",
          "text": [
            "password is: )aip1gk^/ and it NOT is good\n",
            "password is: $b\";|\\X[?} and it NOT is good\n",
            "password is: 49T8}RD6yu and it is good\n"
          ]
        }
      ],
      "source": [
        "import random as rnd\n",
        "\n",
        "def passgenerator():\n",
        "  badpassword=True\n",
        "  num=rnd.randint(7,10)\n",
        "  password=\"\"\n",
        "\n",
        "  for i in range(num):\n",
        "    chracter=chr(rnd.randint(33,126))\n",
        "    password += chracter\n",
        "\n",
        "  uppercase=False\n",
        "  number=False\n",
        "  good_password=False\n",
        "\n",
        "  for j in range(len(password)):\n",
        "    if (65 <= ord(password[j]) and ord(password[j]) <= 90):\n",
        "      uppercase=True\n",
        "\n",
        "    if(48 <= ord(password[j]) and ord(password[j]) <= 57):\n",
        "      number=True\n",
        "     \n",
        "  if (uppercase and number):\n",
        "    print(\"password is:\", password, \"and it is good\")\n",
        "    good_password=True\n",
        "  \n",
        "  else:\n",
        "    print(\"password is:\", password, \"and it NOT is good\")\n",
        "    passgenerator()\n",
        "\n",
        "\n",
        "passgenerator()"
      ]
    }
  ]
}